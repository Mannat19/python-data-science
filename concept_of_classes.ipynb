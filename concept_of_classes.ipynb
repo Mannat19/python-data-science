{
 "cells": [
  {
   "attachments": {},
   "cell_type": "markdown",
   "metadata": {},
   "source": [
    "INHERITANCE"
   ]
  },
  {
   "cell_type": "code",
   "execution_count": 1,
   "metadata": {},
   "outputs": [],
   "source": [
    "class person:\n",
    "    def __init__(self,name,gender=\"female\",age=21):\n",
    "        self.name=name\n",
    "        self.age=age\n",
    "        self.gender=gender\n",
    "    def __repr__(self):\n",
    "        return self.name    "
   ]
  },
  {
   "cell_type": "code",
   "execution_count": 2,
   "metadata": {},
   "outputs": [
    {
     "data": {
      "text/plain": [
       "Mannat"
      ]
     },
     "execution_count": 2,
     "metadata": {},
     "output_type": "execute_result"
    }
   ],
   "source": [
    "p1=person('Mannat',age=21,gender='male')\n",
    "p1"
   ]
  },
  {
   "cell_type": "code",
   "execution_count": 3,
   "metadata": {},
   "outputs": [],
   "source": [
    "class politician(person):\n",
    "    def __init__(self,name,age,gender,pp,exp,area,designation):\n",
    "        super().__init__(name,age,gender)\n",
    "        self.party=pp\n",
    "        self.experience=exp\n",
    "        self.area=area\n",
    "        self.designation=designation"
   ]
  },
  {
   "cell_type": "code",
   "execution_count": 5,
   "metadata": {},
   "outputs": [
    {
     "data": {
      "text/plain": [
       "Priyanshu"
      ]
     },
     "execution_count": 5,
     "metadata": {},
     "output_type": "execute_result"
    }
   ],
   "source": [
    "p2=politician('Priyanshu',24,'male','BJP',2,'Bihar','MLA')\n",
    "p2"
   ]
  },
  {
   "cell_type": "code",
   "execution_count": 11,
   "metadata": {},
   "outputs": [],
   "source": [
    "\n",
    "from dataclasses import dataclass\n",
    "@dataclass\n",
    "class product:\n",
    "    name:str\n",
    "    price:float\n",
    "    quantity:int\n",
    "\n",
    "\n",
    "\n",
    "    "
   ]
  },
  {
   "cell_type": "code",
   "execution_count": 12,
   "metadata": {},
   "outputs": [
    {
     "data": {
      "text/plain": [
       "[product(name='Laptop', price=1000, quantity=5),\n",
       " product(name='Mouse', price=50, quantity=10),\n",
       " product(name='Keyboard', price=100, quantity=8)]"
      ]
     },
     "execution_count": 12,
     "metadata": {},
     "output_type": "execute_result"
    }
   ],
   "source": [
    "products=[\n",
    "    product('Laptop',1000,5),\n",
    "    product('Mouse',50,10),\n",
    "    product('Keyboard',100,8)\n",
    "]\n",
    "products"
   ]
  },
  {
   "cell_type": "code",
   "execution_count": 14,
   "metadata": {},
   "outputs": [],
   "source": [
    "@dataclass\n",
    "class polygon:\n",
    "    sides:int\n",
    "    length:float\n",
    "    def perimeter(self):\n",
    "        return self.sides*self.length"
   ]
  },
  {
   "cell_type": "code",
   "execution_count": 17,
   "metadata": {},
   "outputs": [
    {
     "name": "stdout",
     "output_type": "stream",
     "text": [
      "32\n",
      "18\n"
     ]
    }
   ],
   "source": [
    "\n",
    "p=polygon(4,8)\n",
    "p2=polygon(3,6)\n",
    "print(p.perimeter())\n",
    "print(p2.perimeter())\n",
    "    \n",
    "    \n"
   ]
  },
  {
   "cell_type": "code",
   "execution_count": 18,
   "metadata": {},
   "outputs": [],
   "source": [
    "x=[1,2,3,4,5]\n",
    "y=[2,4,6,8,10]\n",
    "# x.sum()\n",
    "# x.mean()"
   ]
  },
  {
   "cell_type": "code",
   "execution_count": 19,
   "metadata": {},
   "outputs": [],
   "source": [
    "class Slist(list):\n",
    "    def sum(self):\n",
    "        return sum(self)\n",
    "    def mean(self):\n",
    "        return sum(self)/len(self)"
   ]
  },
  {
   "cell_type": "code",
   "execution_count": 21,
   "metadata": {},
   "outputs": [
    {
     "name": "stdout",
     "output_type": "stream",
     "text": [
      "15\n",
      "115\n",
      "19.166666666666668\n"
     ]
    }
   ],
   "source": [
    "x=Slist([1,2,3,4,5])\n",
    "y=Slist([2,4,6,8,10])\n",
    "\n",
    "print(x.sum())\n",
    "x.append(100)\n",
    "print(x.sum())\n",
    "print(x.mean())"
   ]
  },
  {
   "cell_type": "code",
   "execution_count": null,
   "metadata": {},
   "outputs": [],
   "source": []
  },
  {
   "cell_type": "code",
   "execution_count": null,
   "metadata": {},
   "outputs": [],
   "source": []
  }
 ],
 "metadata": {
  "kernelspec": {
   "display_name": "base",
   "language": "python",
   "name": "python3"
  },
  "language_info": {
   "codemirror_mode": {
    "name": "ipython",
    "version": 3
   },
   "file_extension": ".py",
   "mimetype": "text/x-python",
   "name": "python",
   "nbconvert_exporter": "python",
   "pygments_lexer": "ipython3",
   "version": "3.10.8"
  },
  "orig_nbformat": 4
 },
 "nbformat": 4,
 "nbformat_minor": 2
}
