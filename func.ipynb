{
 "cells": [
  {
   "attachments": {},
   "cell_type": "markdown",
   "metadata": {},
   "source": [
    "*syntax\n",
    "```python\n",
    "\n",
    "def func_name(<parameters..>):\n",
    "  statement 1\n",
    "  statement 2\n",
    "  ....\n",
    "  statement n\n",
    "  <return values...>\n",
    "calling a function\n",
    "func_name(<params...>) "
   ]
  },
  {
   "cell_type": "code",
   "execution_count": 1,
   "metadata": {},
   "outputs": [],
   "source": [
    "def greetings():\n",
    "    print('Welcome to the function')\n",
    "    print('Hope you are happy')\n",
    "    print('Have a nice day')\n"
   ]
  },
  {
   "cell_type": "code",
   "execution_count": 3,
   "metadata": {},
   "outputs": [
    {
     "name": "stdout",
     "output_type": "stream",
     "text": [
      "Welcome to the function\n",
      "Hope you are happy\n",
      "Have a nice day\n"
     ]
    }
   ],
   "source": [
    "greetings()"
   ]
  },
  {
   "cell_type": "code",
   "execution_count": 5,
   "metadata": {},
   "outputs": [
    {
     "name": "stdout",
     "output_type": "stream",
     "text": [
      "Welcome to the function\n",
      "Hope you are happy\n",
      "Have a nice day\n",
      "Welcome to the function\n",
      "Hope you are happy\n",
      "Have a nice day\n",
      "Welcome to the function\n",
      "Hope you are happy\n",
      "Have a nice day\n",
      "Welcome to the function\n",
      "Hope you are happy\n",
      "Have a nice day\n"
     ]
    }
   ],
   "source": [
    "greetings()\n",
    "greetings()\n",
    "greetings()\n",
    "greetings()"
   ]
  },
  {
   "cell_type": "code",
   "execution_count": 6,
   "metadata": {},
   "outputs": [
    {
     "name": "stdout",
     "output_type": "stream",
     "text": [
      "5\n"
     ]
    }
   ],
   "source": [
    "ans=len('hello')\n",
    "print(ans)"
   ]
  },
  {
   "cell_type": "code",
   "execution_count": 7,
   "metadata": {},
   "outputs": [
    {
     "name": "stdout",
     "output_type": "stream",
     "text": [
      "Welcome to the function\n",
      "Hope you are happy\n",
      "Have a nice day\n",
      "None\n"
     ]
    }
   ],
   "source": [
    "ans=greetings()\n",
    "print(ans)"
   ]
  },
  {
   "cell_type": "code",
   "execution_count": 8,
   "metadata": {},
   "outputs": [],
   "source": [
    "def random3():\n",
    "    from random import choices\n",
    "    value = list('🤡🙃😻🙈🙉🙊🐶🐷')\n",
    "    return \" \".join(choices(value,k=3))"
   ]
  },
  {
   "cell_type": "code",
   "execution_count": 23,
   "metadata": {},
   "outputs": [
    {
     "data": {
      "text/plain": [
       "'🙈 🙊 🙉'"
      ]
     },
     "execution_count": 23,
     "metadata": {},
     "output_type": "execute_result"
    }
   ],
   "source": [
    "random3()"
   ]
  },
  {
   "cell_type": "code",
   "execution_count": 24,
   "metadata": {},
   "outputs": [
    {
     "name": "stdout",
     "output_type": "stream",
     "text": [
      "🙉 🙉 🤡\n",
      "🙈 🐷 😻\n",
      "🙃 🙈 🙊\n",
      "🙉 🙈 🙊\n",
      "😻 🙃 🐶\n",
      "🙉 🐷 🙉\n",
      "🙈 🙉 🤡\n",
      "🙉 🙉 😻\n",
      "🙊 🐶 🤡\n",
      "🐷 🤡 🙈\n"
     ]
    }
   ],
   "source": [
    "for i in range(10):\n",
    "    print(random3())"
   ]
  },
  {
   "cell_type": "code",
   "execution_count": 28,
   "metadata": {},
   "outputs": [],
   "source": [
    "def random10():\n",
    "    from random import choices\n",
    "    value = list('🍕🍔🍟🌭🍳🌮🥩🍜🍛🍙🍤🥪')\n",
    "    return \" \".join(choices(value,k=10))"
   ]
  },
  {
   "cell_type": "code",
   "execution_count": 26,
   "metadata": {},
   "outputs": [
    {
     "data": {
      "text/plain": [
       "'🥪 🍳 🍟 🍛'"
      ]
     },
     "execution_count": 26,
     "metadata": {},
     "output_type": "execute_result"
    }
   ],
   "source": [
    "random10()"
   ]
  },
  {
   "cell_type": "code",
   "execution_count": 29,
   "metadata": {},
   "outputs": [
    {
     "name": "stdout",
     "output_type": "stream",
     "text": [
      "🌭 🥪 🍕 🌮 🍔 🍳 🥪 🥪 🍜 🌮\n",
      "🍜 🥩 🍳 🍔 🍛 🍟 🍕 🥪 🍟 🍛\n",
      "🌮 🍜 🥪 🍜 🍛 🌮 🌮 🍤 🍔 🍜\n",
      "🍤 🍕 🍛 🍔 🌭 🍜 🥩 🍤 🌮 🥪\n",
      "🥪 🍤 🌮 🥩 🍟 🍟 🍔 🍕 🍕 🍳\n",
      "🍛 🥩 🍔 🍔 🍟 🥪 🍟 🥪 🍙 🍕\n",
      "🌭 🍜 🍟 🌮 🍜 🍛 🍤 🥪 🥩 🌭\n",
      "🍕 🥩 🍳 🍟 🍔 🍳 🍤 🥩 🍕 🌮\n",
      "🍔 🍤 🍳 🍛 🥪 🌭 🍜 🍔 🍕 🌮\n",
      "🌮 🥩 🌭 🥪 🍛 🌭 🍔 🍙 🍳 🥪\n"
     ]
    }
   ],
   "source": [
    "for i in range(10):\n",
    "    print(random10())"
   ]
  },
  {
   "cell_type": "code",
   "execution_count": null,
   "metadata": {},
   "outputs": [],
   "source": []
  }
 ],
 "metadata": {
  "kernelspec": {
   "display_name": "base",
   "language": "python",
   "name": "python3"
  },
  "language_info": {
   "codemirror_mode": {
    "name": "ipython",
    "version": 3
   },
   "file_extension": ".py",
   "mimetype": "text/x-python",
   "name": "python",
   "nbconvert_exporter": "python",
   "pygments_lexer": "ipython3",
   "version": "3.10.8"
  },
  "orig_nbformat": 4,
  "vscode": {
   "interpreter": {
    "hash": "d352f530d35ba9a8cbd74dc54ae14fe97a35856bed16a2f3b615ca61b68e7fcb"
   }
  }
 },
 "nbformat": 4,
 "nbformat_minor": 2
}
