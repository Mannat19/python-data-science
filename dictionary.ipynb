{
 "cells": [
  {
   "cell_type": "code",
   "execution_count": 1,
   "metadata": {},
   "outputs": [
    {
     "name": "stdout",
     "output_type": "stream",
     "text": [
      "{'name': 'John Cena', 'class': '2nd', 'roll no': 21, 'marks': 90}\n"
     ]
    }
   ],
   "source": [
    "students={\n",
    "    'name':'John Cena',\n",
    "    'class':'2nd',\n",
    "    'roll no':21,\n",
    "    'marks':90\n",
    "}\n",
    "print(students)"
   ]
  },
  {
   "cell_type": "code",
   "execution_count": 2,
   "metadata": {},
   "outputs": [
    {
     "name": "stdout",
     "output_type": "stream",
     "text": [
      "John Cena\n",
      "2nd\n"
     ]
    }
   ],
   "source": [
    "print(students['name'])\n",
    "print(students['class'])\n"
   ]
  },
  {
   "cell_type": "code",
   "execution_count": 5,
   "metadata": {},
   "outputs": [
    {
     "name": "stdout",
     "output_type": "stream",
     "text": [
      "John Cena\n",
      "2nd\n"
     ]
    }
   ],
   "source": [
    "print(students.get('name'))\n",
    "print(students.get('class'))\n",
    "\n",
    "\n"
   ]
  },
  {
   "cell_type": "code",
   "execution_count": 6,
   "metadata": {},
   "outputs": [
    {
     "name": "stdout",
     "output_type": "stream",
     "text": [
      "{'name': 'John Cena', 'class': '2nd', 'roll no': 21, 'marks': 90, 'school': 'SKD', 'father': 'Sam Cena'}\n"
     ]
    }
   ],
   "source": [
    "students['school']='SKD'\n",
    "students['father']='Sam Cena'\n",
    "print(students)"
   ]
  },
  {
   "cell_type": "code",
   "execution_count": 10,
   "metadata": {},
   "outputs": [
    {
     "name": "stdout",
     "output_type": "stream",
     "text": [
      "{'name': 'John Cena', 'class': '3rd', 'roll no': 21, 'marks': 90, 'school': 'SKD', 'father': 'Sam Cena'}\n"
     ]
    }
   ],
   "source": [
    "students['class']='3rd'\n",
    "print(students)"
   ]
  },
  {
   "cell_type": "code",
   "execution_count": 26,
   "metadata": {},
   "outputs": [
    {
     "name": "stdout",
     "output_type": "stream",
     "text": [
      "{'name': 'Radhe Krishna', 'male lead': 'Sumedh Mudgalkar', 'female lead': 'Mallika Singh', 'total seasons': 2, 'rating': 9.5, 'ott': 'hotstar'}\n"
     ]
    }
   ],
   "source": [
    "show={\n",
    "    'name':'Radhe Krishna',\n",
    "    'male lead':'Sumedh Mudgalkar',\n",
    "    'female lead':'Mallika Singh',\n",
    "    'total seasons':2,\n",
    "    'rating':9.5,\n",
    "    'ott':'hotstar'\n",
    "}\n",
    "print(show)"
   ]
  },
  {
   "cell_type": "code",
   "execution_count": 13,
   "metadata": {},
   "outputs": [
    {
     "name": "stdout",
     "output_type": "stream",
     "text": [
      "name\n",
      "male lead\n",
      "female lead\n",
      "total seasons\n",
      "rating\n",
      "ott\n"
     ]
    }
   ],
   "source": [
    "for key in show:\n",
    "    print(key)"
   ]
  },
  {
   "cell_type": "code",
   "execution_count": 14,
   "metadata": {},
   "outputs": [
    {
     "name": "stdout",
     "output_type": "stream",
     "text": [
      "name Radhe Krishna\n",
      "male lead Sumedh Mudgalkar\n",
      "female lead Mallika Singh\n",
      "total seasons 2\n",
      "rating 9.5\n",
      "ott hotstar\n"
     ]
    }
   ],
   "source": [
    "for key in show:\n",
    "    print(key,show[key])"
   ]
  },
  {
   "cell_type": "code",
   "execution_count": 15,
   "metadata": {},
   "outputs": [
    {
     "name": "stdout",
     "output_type": "stream",
     "text": [
      "name Radhe Krishna\n",
      "male lead Sumedh Mudgalkar\n",
      "female lead Mallika Singh\n",
      "total seasons 2\n",
      "rating 9.5\n",
      "ott hotstar\n"
     ]
    }
   ],
   "source": [
    "for k,v in show.items():\n",
    "    print(k,v)"
   ]
  },
  {
   "cell_type": "code",
   "execution_count": 16,
   "metadata": {},
   "outputs": [
    {
     "name": "stdout",
     "output_type": "stream",
     "text": [
      "Radhe Krishna\n",
      "Sumedh Mudgalkar\n",
      "Mallika Singh\n",
      "2\n",
      "9.5\n",
      "hotstar\n"
     ]
    }
   ],
   "source": [
    "for v in show.values():\n",
    "    print(v)"
   ]
  },
  {
   "cell_type": "code",
   "execution_count": 17,
   "metadata": {},
   "outputs": [
    {
     "name": "stdout",
     "output_type": "stream",
     "text": [
      "dict_keys(['name', 'male lead', 'female lead', 'total seasons', 'rating', 'ott'])\n",
      "dict_values(['Radhe Krishna', 'Sumedh Mudgalkar', 'Mallika Singh', 2, 9.5, 'hotstar'])\n",
      "dict_items([('name', 'Radhe Krishna'), ('male lead', 'Sumedh Mudgalkar'), ('female lead', 'Mallika Singh'), ('total seasons', 2), ('rating', 9.5), ('ott', 'hotstar')])\n"
     ]
    }
   ],
   "source": [
    "print(show.keys())\n",
    "print(show.values())\n",
    "print(show.items())"
   ]
  },
  {
   "cell_type": "code",
   "execution_count": 27,
   "metadata": {},
   "outputs": [
    {
     "data": {
      "text/plain": [
       "'hotstar'"
      ]
     },
     "execution_count": 27,
     "metadata": {},
     "output_type": "execute_result"
    }
   ],
   "source": [
    "show.pop('ott')"
   ]
  },
  {
   "cell_type": "code",
   "execution_count": null,
   "metadata": {},
   "outputs": [],
   "source": []
  }
 ],
 "metadata": {
  "kernelspec": {
   "display_name": "base",
   "language": "python",
   "name": "python3"
  },
  "language_info": {
   "codemirror_mode": {
    "name": "ipython",
    "version": 3
   },
   "file_extension": ".py",
   "mimetype": "text/x-python",
   "name": "python",
   "nbconvert_exporter": "python",
   "pygments_lexer": "ipython3",
   "version": "3.10.8"
  },
  "orig_nbformat": 4
 },
 "nbformat": 4,
 "nbformat_minor": 2
}
